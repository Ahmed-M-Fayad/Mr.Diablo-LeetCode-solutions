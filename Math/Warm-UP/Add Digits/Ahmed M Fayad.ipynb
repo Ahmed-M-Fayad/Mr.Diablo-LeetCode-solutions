{
 "cells": [
  {
   "cell_type": "markdown",
   "metadata": {},
   "source": [
    "# Add Digits"
   ]
  },
  {
   "cell_type": "markdown",
   "metadata": {},
   "source": [
    "Problem: Add Digits\n",
    "\n",
    "Problem Link: https://leetcode.com/problems/add-digits/description/"
   ]
  },
  {
   "cell_type": "markdown",
   "metadata": {},
   "source": [
    "Given an integer num, repeatedly add all its digits until the result has only one digit, and return it."
   ]
  },
  {
   "cell_type": "markdown",
   "metadata": {},
   "source": [
    "**Example 1**:\n",
    "\n",
    "Input: num = 38\n",
    "\n",
    "Output: 2\n",
    "\n",
    "Explanation: The process is\n",
    "\n",
    "38 --> 3 + 8 --> 11\n",
    "\n",
    "11 --> 1 + 1 --> 2 \n",
    "\n",
    "Since 2 has only one digit, return it."
   ]
  },
  {
   "cell_type": "markdown",
   "metadata": {},
   "source": [
    "**Example 2**:\n",
    "\n",
    "Input: num = 0\n",
    "\n",
    "Output: 0"
   ]
  },
  {
   "cell_type": "markdown",
   "metadata": {},
   "source": [
    "## Solution"
   ]
  },
  {
   "cell_type": "code",
   "execution_count": 35,
   "metadata": {},
   "outputs": [],
   "source": [
    "def solution(num: int) -> int:\n",
    "    add = num\n",
    "    numlst = list(str(num))\n",
    "    while len(numlst) > 1:\n",
    "        add = 0\n",
    "        while len(numlst) > 0: add += int(numlst.pop())\n",
    "        numlst = list(str(add))\n",
    "    return add"
   ]
  },
  {
   "cell_type": "markdown",
   "metadata": {},
   "source": [
    "**Solution Expaination**\n",
    "\n",
    "The solution works by iteratively summing the digits of a number until a single digit is obtained. Here's how it works:\n",
    "\n",
    "1. Convert the number into a list of its digits.\n",
    "\n",
    "2. While the list has more than one digit, sum the digits, update the number to the sum, and convert the sum back into a list of digits.\n",
    "\n",
    "3. Repeat the process until the sum is a single digit.\n",
    "\n",
    "4. Return the final single-digit sum.\n",
    "\n",
    "The process stops when there are no more multiple digits to sum, and the result is a single digit."
   ]
  },
  {
   "cell_type": "markdown",
   "metadata": {},
   "source": [
    "**Space Comlplexity**: BigO(n) (Worst Case) , Where n is the number of digits"
   ]
  },
  {
   "cell_type": "code",
   "execution_count": 38,
   "metadata": {},
   "outputs": [
    {
     "name": "stdout",
     "output_type": "stream",
     "text": [
      "2\n",
      "0\n"
     ]
    }
   ],
   "source": [
    "# Testing\n",
    "nums1 = 38\n",
    "print(solution(nums1))\n",
    "nums1 = 0\n",
    "print(solution(nums1))"
   ]
  },
  {
   "cell_type": "code",
   "execution_count": 39,
   "metadata": {},
   "outputs": [],
   "source": [
    "def optimized_solution(num: int) -> int:\n",
    "    if num == 0: return 0\n",
    "    elif num % 9 == 0: return 9\n",
    "    else: return (num % 9) "
   ]
  },
  {
   "cell_type": "markdown",
   "metadata": {},
   "source": [
    "**Solution Expaination**\n",
    "\n",
    "This optimized solution calculates the repeated sum of digits until a single digit is obtained using the digital root method.\n",
    "\n",
    "1. If the number is 0, it returns 0.\n",
    "\n",
    "2. If the number is a multiple of 9, it returns 9 (since the sum of digits of any multiple of 9 reduces to 9).\n",
    "\n",
    "3. Otherwise, it returns num % 9, which gives the digital root. This works because of the property that the sum of a number's digits modulo 9 is congruent to the number modulo 9."
   ]
  },
  {
   "cell_type": "markdown",
   "metadata": {},
   "source": [
    "**Space Complexity**: BigO(1) (Worst Case)"
   ]
  },
  {
   "cell_type": "code",
   "execution_count": 40,
   "metadata": {},
   "outputs": [
    {
     "name": "stdout",
     "output_type": "stream",
     "text": [
      "2\n",
      "0\n"
     ]
    }
   ],
   "source": [
    "# Testing\n",
    "nums1 = 38\n",
    "print(optimized_solution(nums1))\n",
    "nums1 = 0\n",
    "print(optimized_solution(nums1))"
   ]
  }
 ],
 "metadata": {
  "kernelspec": {
   "display_name": "Python 3",
   "language": "python",
   "name": "python3"
  },
  "language_info": {
   "codemirror_mode": {
    "name": "ipython",
    "version": 3
   },
   "file_extension": ".py",
   "mimetype": "text/x-python",
   "name": "python",
   "nbconvert_exporter": "python",
   "pygments_lexer": "ipython3",
   "version": "3.12.1"
  }
 },
 "nbformat": 4,
 "nbformat_minor": 2
}
