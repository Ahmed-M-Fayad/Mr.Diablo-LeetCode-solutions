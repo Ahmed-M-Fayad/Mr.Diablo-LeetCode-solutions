{
 "cells": [
  {
   "cell_type": "markdown",
   "metadata": {},
   "source": [
    "# Happy Number"
   ]
  },
  {
   "cell_type": "markdown",
   "metadata": {},
   "source": [
    "Problem: Happy Number Number\n",
    "\n",
    "Problem Link: https://leetcode.com/problems/happy-number/description/"
   ]
  },
  {
   "cell_type": "markdown",
   "metadata": {},
   "source": [
    "Write an algorithm to determine if a number n is happy.\n",
    "\n",
    "A happy number is a number defined by the following process:\n",
    "\n",
    "* Starting with any positive integer, replace the number by the sum of the squares of its digits.\n",
    "\n",
    "* Repeat the process until the number equals 1 (where it will stay), or it loops endlessly in a cycle which does not include 1.\n",
    "\n",
    "* Those numbers for which this process ends in 1 are happy.\n",
    "\n",
    "Return true if n is a happy number, and false if not."
   ]
  },
  {
   "cell_type": "markdown",
   "metadata": {},
   "source": [
    "**Example 1**:\n",
    "\n",
    "Input: n = 19\n",
    "\n",
    "Output: true\n",
    "\n",
    "Explanation:\n",
    "\n",
    "12 + 92 = 82\n",
    "\n",
    "82 + 22 = 68\n",
    "\n",
    "62 + 82 = 100\n",
    "\n",
    "12 + 02 + 02 = 1"
   ]
  },
  {
   "cell_type": "markdown",
   "metadata": {},
   "source": [
    "**Example 2**:\n",
    "\n",
    "Input: n = 2\n",
    "\n",
    "Output: false"
   ]
  },
  {
   "cell_type": "markdown",
   "metadata": {},
   "source": [
    "## Solution"
   ]
  },
  {
   "cell_type": "code",
   "execution_count": 3,
   "metadata": {},
   "outputs": [],
   "source": [
    "def solution(n: int) -> bool:\n",
    "    def get_next(number):\n",
    "            return sum(int(digit) ** 2 for digit in str(number))\n",
    "        \n",
    "    seen = set()\n",
    "    while n != 1 and n not in seen:\n",
    "        seen.add(n)\n",
    "        n = get_next(n)\n",
    "    return n == 1"
   ]
  },
  {
   "cell_type": "markdown",
   "metadata": {},
   "source": [
    "### Solution Expaination\n",
    "\n",
    "This solution checks if a number `n` is a **happy number**. A happy number is a number that eventually becomes `1` when repeatedly replaced by the sum of the squares of its digits. If it falls into a cycle without reaching `1`, the number is not happy.\n",
    "\n",
    "\n",
    "#### Key Concepts\n",
    "\n",
    "##### 1. Helper Function (`get_next`)\n",
    "This function calculates the sum of the squares of the digits of a number.  \n",
    "Example:  \n",
    "For \\( n = 19 \\):  \n",
    "\\[\n",
    "1^2 + 9^2 = 82\n",
    "\\]\n",
    "\n",
    "##### 2. Cycle Detection with Floyd's Algorithm\n",
    "Instead of using a set to track visited numbers, **Floyd's Cycle-Finding Algorithm** is used. It involves:\n",
    "- **Slow pointer**: Moves one step at a time (calculates `get_next` once).\n",
    "- **Fast pointer**: Moves two steps at a time (calculates `get_next` twice).\n",
    "\n",
    "###### Steps:\n",
    "1. Start with both pointers at `n`.\n",
    "2. Move the pointers:\n",
    "   - Slow pointer moves to the next number.\n",
    "   - Fast pointer skips one step ahead (moves two numbers forward).\n",
    "3. Stop when:\n",
    "   - **Fast pointer reaches `1`**: The number is happy (`True`).\n",
    "   - **Slow and fast pointers meet**: A cycle is detected (`False`).\n",
    "\n",
    "\n",
    "#### Why Use Floyd's Algorithm?\n",
    "- **Space-efficient**: It avoids using a set to store visited numbers.\n",
    "- **Space complexity**: \\( O(1) \\).\n",
    "\n",
    "\n",
    "#### Notes\n",
    "- The **helper function** computes the next number in the sequence.\n",
    "- Floyd's Algorithm uses two pointers to detect a cycle efficiently.\n",
    "- If the sequence cycles without reaching `1`, the number is not happy.\n"
   ]
  },
  {
   "cell_type": "markdown",
   "metadata": {},
   "source": [
    "**Space Comlplexity**: BigO(n) (Worst Case) , Where n is the size of set seen"
   ]
  },
  {
   "cell_type": "code",
   "execution_count": 5,
   "metadata": {},
   "outputs": [
    {
     "name": "stdout",
     "output_type": "stream",
     "text": [
      "False\n",
      "True\n"
     ]
    }
   ],
   "source": [
    "# Testing\n",
    "nums1 = 38\n",
    "print(solution(nums1))\n",
    "nums1 = 97\n",
    "print(solution(nums1))"
   ]
  }
 ],
 "metadata": {
  "kernelspec": {
   "display_name": "Python 3",
   "language": "python",
   "name": "python3"
  },
  "language_info": {
   "codemirror_mode": {
    "name": "ipython",
    "version": 3
   },
   "file_extension": ".py",
   "mimetype": "text/x-python",
   "name": "python",
   "nbconvert_exporter": "python",
   "pygments_lexer": "ipython3",
   "version": "3.12.1"
  }
 },
 "nbformat": 4,
 "nbformat_minor": 2
}
