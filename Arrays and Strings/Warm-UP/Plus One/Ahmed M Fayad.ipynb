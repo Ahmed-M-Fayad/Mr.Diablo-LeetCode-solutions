{
 "cells": [
  {
   "cell_type": "markdown",
   "metadata": {},
   "source": [
    "# Plus One"
   ]
  },
  {
   "cell_type": "markdown",
   "metadata": {},
   "source": [
    "Problem: Plus One\n",
    "\n",
    "Problem Link: https://leetcode.com/problems/plus-one/description/"
   ]
  },
  {
   "cell_type": "markdown",
   "metadata": {},
   "source": [
    "You are given a large integer represented as an integer array digits, where each digits[i] is the ith digit of the integer.\n",
    "\n",
    "The digits are ordered from most significant to least significant in left-to-right order. The large integer does not contain any leading 0's.\n",
    "\n",
    "Increment the large integer by one and return the resulting array of digits."
   ]
  },
  {
   "cell_type": "markdown",
   "metadata": {},
   "source": [
    "**Example 1**:\n",
    "\n",
    "Input: digits = [1,2,3]\n",
    "\n",
    "Output: [1,2,4]\n",
    "\n",
    "Explanation: The array represents the integer 123.\n",
    "\n",
    "Incrementing by one gives 123 + 1 = 124.\n",
    "\n",
    "Thus, the result should be [1,2,4]."
   ]
  },
  {
   "cell_type": "markdown",
   "metadata": {},
   "source": [
    "**Example 2**:\n",
    "Input: digits = [4,3,2,1]\n",
    "\n",
    "Output: [4,3,2,2]\n",
    "\n",
    "Explanation: The array represents the integer 4321.\n",
    "\n",
    "Incrementing by one gives 4321 + 1 = 4322.\n",
    "\n",
    "Thus, the result should be [4,3,2,2]."
   ]
  },
  {
   "cell_type": "markdown",
   "metadata": {},
   "source": [
    "**Example 3**:\n",
    "\n",
    "Input: digits = [9]\n",
    "\n",
    "Output: [1,0]\n",
    "\n",
    "Explanation: The array represents the integer 9.\n",
    "\n",
    "Incrementing by one gives 9 + 1 = 10.\n",
    "\n",
    "Thus, the result should be [1,0]."
   ]
  },
  {
   "cell_type": "markdown",
   "metadata": {},
   "source": [
    "***Notice: digits does not contain any leading 0's.***"
   ]
  },
  {
   "cell_type": "markdown",
   "metadata": {},
   "source": [
    "## Solution"
   ]
  },
  {
   "cell_type": "code",
   "execution_count": 93,
   "metadata": {},
   "outputs": [],
   "source": [
    "from typing import List\n",
    "\n",
    "def solution(digits: List[int]) -> List[int]:\n",
    "    num = \"\".join([f\"{ele}\" for ele in digits])\n",
    "    num = str(int(num) + 1)\n",
    "    digits.clear()\n",
    "    for i in num:\n",
    "        digits.append(int(i))\n",
    "    return digits"
   ]
  },
  {
   "cell_type": "markdown",
   "metadata": {},
   "source": [
    "**Solution Expaination**\n",
    "\n",
    "Converting digits list to a strin for numbers easy handling nextly we add one to the conversion of integers of the numebrs, And Finally we append numbers to digits list after cleaing the list"
   ]
  },
  {
   "cell_type": "markdown",
   "metadata": {},
   "source": [
    "**Space Comlplexity**: BigO(n)"
   ]
  },
  {
   "cell_type": "code",
   "execution_count": 94,
   "metadata": {},
   "outputs": [
    {
     "name": "stdout",
     "output_type": "stream",
     "text": [
      "[1, 2, 4]\n",
      "[4, 3, 2, 2]\n",
      "[1, 0, 0]\n",
      "[9, 0, 0, 0]\n"
     ]
    }
   ],
   "source": [
    "# Testing\n",
    "lst = [1, 2, 3]\n",
    "print(solution(lst))\n",
    "lst = [4, 3, 2, 1]\n",
    "print(solution(lst))\n",
    "lst = [9, 9]\n",
    "print(solution(lst))\n",
    "lst = [8, 9, 9, 9]\n",
    "print(solution(lst))"
   ]
  },
  {
   "cell_type": "code",
   "execution_count": 95,
   "metadata": {},
   "outputs": [],
   "source": [
    "def optimized_solution(digits: List[int]) -> List[int]:\n",
    "    # Traverse the list from the last element to the first\n",
    "    for i in range(len(digits)-1, -1, -1):\n",
    "        # If the current digit is 9, set it to 0\n",
    "        if digits[i] == 9:\n",
    "            digits[i] = 0\n",
    "        else:\n",
    "            # If the current digit is not 9, increment it by 1 and return the list\n",
    "            digits[i] = digits[i] + 1\n",
    "            return digits\n",
    "    # If all digits are 9, prepend 1 to the list\n",
    "    return [1] + digits"
   ]
  },
  {
   "cell_type": "markdown",
   "metadata": {},
   "source": [
    "**Solution Expaination**\n",
    "\n",
    "Start from the last digit of the array and move towards the first digit.\n",
    "\n",
    "If the current digit is 9, set it to 0 because 9 + 1 results in a carry over.\n",
    "\n",
    "If the current digit is not 9, increment it by 1 and return the array immediately, as there will be no carry over.\n",
    "\n",
    "If all digits are processed and all were 9, prepend 1 to the array to handle the final carry over."
   ]
  },
  {
   "cell_type": "markdown",
   "metadata": {},
   "source": [
    "**Space Complexity**: BigO(n), And in best case BigO(1)"
   ]
  },
  {
   "cell_type": "code",
   "execution_count": 96,
   "metadata": {},
   "outputs": [
    {
     "name": "stdout",
     "output_type": "stream",
     "text": [
      "[1, 2, 4]\n",
      "[4, 3, 2, 2]\n",
      "[1, 0, 0]\n",
      "[9, 0, 0, 0]\n"
     ]
    }
   ],
   "source": [
    "# Testing\n",
    "lst = [1, 2, 3]\n",
    "print(optimized_solution(lst))\n",
    "lst = [4, 3, 2, 1]\n",
    "print(optimized_solution(lst))\n",
    "lst = [9, 9]\n",
    "print(optimized_solution(lst))\n",
    "lst = [8, 9, 9, 9]\n",
    "print(optimized_solution(lst))"
   ]
  }
 ],
 "metadata": {
  "kernelspec": {
   "display_name": "Python 3",
   "language": "python",
   "name": "python3"
  },
  "language_info": {
   "codemirror_mode": {
    "name": "ipython",
    "version": 3
   },
   "file_extension": ".py",
   "mimetype": "text/x-python",
   "name": "python",
   "nbconvert_exporter": "python",
   "pygments_lexer": "ipython3",
   "version": "3.12.1"
  }
 },
 "nbformat": 4,
 "nbformat_minor": 2
}
