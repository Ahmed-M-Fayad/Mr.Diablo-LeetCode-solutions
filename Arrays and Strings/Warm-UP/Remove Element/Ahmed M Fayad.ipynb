{
 "cells": [
  {
   "cell_type": "markdown",
   "metadata": {},
   "source": [
    "# Remove Element"
   ]
  },
  {
   "cell_type": "markdown",
   "metadata": {},
   "source": [
    "Problem: Remove Element\n",
    "\n",
    "Problem Link: https://leetcode.com/problems/remove-element"
   ]
  },
  {
   "cell_type": "markdown",
   "metadata": {},
   "source": [
    "Given an integer array nums and an integer val, remove all occurrences of val in nums in-place. The order of the elements may be changed. Then return the number of elements in nums which are not equal to val.\n",
    "\n",
    "Consider the number of elements in nums which are not equal to val be k, to get accepted, you need to do the following things:\n",
    "\n",
    "- Change the array nums such that the first k elements of nums contain the elements which are not equal to val. The remaining elements of nums are not important as well as the size of nums.\n",
    "\n",
    "- Return k."
   ]
  },
  {
   "cell_type": "markdown",
   "metadata": {},
   "source": [
    "**Example 1**:\n",
    "\n",
    "Input: nums = [3,2,2,3], val = 3\n",
    "\n",
    "Output: 2, nums = [2,2,_,_]\n",
    "\n",
    "Explanation: Your function should return k = 2, with the first two elements of nums being 2.\n",
    "\n",
    "It does not matter what you leave beyond the returned k (hence they are underscores)."
   ]
  },
  {
   "cell_type": "markdown",
   "metadata": {},
   "source": [
    "**Example 2**:\n",
    "\n",
    "Input: nums = [0,1,2,2,3,0,4,2], val = 2\n",
    "\n",
    "Output: 5, nums = [0,1,4,0,3,_,_,_]\n",
    "\n",
    "Explanation: Your function should return k = 5, with the first five elements of nums containing 0, 0, 1, 3, and 4.\n",
    "\n",
    "Note that the five elements can be returned in any order.\n",
    "\n",
    "It does not matter what you leave beyond the returned k (hence they are underscores)."
   ]
  },
  {
   "cell_type": "markdown",
   "metadata": {},
   "source": [
    "## Solution"
   ]
  },
  {
   "cell_type": "code",
   "execution_count": 20,
   "metadata": {},
   "outputs": [],
   "source": [
    "from typing import List\n",
    "\n",
    "def solution(nums: List[int], val: int) -> int:\n",
    "    k = 0\n",
    "    \n",
    "    for i in range(len(nums)):\n",
    "        \n",
    "        if nums[i] == val: continue\n",
    "        nums[k] = nums[i]\n",
    "        k += 1\n",
    "        \n",
    "    return k"
   ]
  },
  {
   "cell_type": "markdown",
   "metadata": {},
   "source": [
    "#### **Solution Explanation**\n",
    "\n",
    "This solution implements **Kadane's Algorithm** to find the maximum sum of a contiguous subarray in \\( O(n) \\) time.\n",
    "\n",
    "\n",
    "##### Main Ideas:\n",
    "1. **Track Two Values**:\n",
    "   - `max_sum`: The maximum sum of any subarray found so far.\n",
    "   - `calculted_sum`: The running sum of the current subarray.\n",
    "\n",
    "2. **Iterate Through the Array**:\n",
    "   - Add each number to `calculted_sum`.\n",
    "   - Update `max_sum` if `calculted_sum` exceeds the current `max_sum`.\n",
    "   - Reset `calculted_sum` to `0` if it becomes negative to start a new subarray.\n",
    "\n",
    "\n",
    "##### Key Insight:\n",
    "Kadane's Algorithm efficiently handles both positive and negative numbers by:\n",
    "- Discarding subarrays with negative sums.\n",
    "- Focusing on subarrays with potential for higher sums.\n",
    "\n",
    "This approach ensures a single pass through the array and uses constant space.\n"
   ]
  },
  {
   "cell_type": "markdown",
   "metadata": {},
   "source": [
    "**Space Comlplexity**: BigO(n) (Worst Case)"
   ]
  },
  {
   "cell_type": "code",
   "execution_count": 21,
   "metadata": {},
   "outputs": [
    {
     "name": "stdout",
     "output_type": "stream",
     "text": [
      "7 [-2, 1, -3, -1, 2, 1, -5, -5, 4]\n",
      "3\n"
     ]
    }
   ],
   "source": [
    "# Testing\n",
    "nums = [-2,1,-3,4,-1,2,1,-5,4]\n",
    "print(solution(nums , 4))\n",
    "nums2 = [9,4,9,8,4]\n",
    "print(solution(nums2, 4))"
   ]
  },
  {
   "cell_type": "code",
   "execution_count": null,
   "metadata": {},
   "outputs": [],
   "source": []
  }
 ],
 "metadata": {
  "kernelspec": {
   "display_name": "Python 3",
   "language": "python",
   "name": "python3"
  },
  "language_info": {
   "codemirror_mode": {
    "name": "ipython",
    "version": 3
   },
   "file_extension": ".py",
   "mimetype": "text/x-python",
   "name": "python",
   "nbconvert_exporter": "python",
   "pygments_lexer": "ipython3",
   "version": "3.12.1"
  }
 },
 "nbformat": 4,
 "nbformat_minor": 2
}
