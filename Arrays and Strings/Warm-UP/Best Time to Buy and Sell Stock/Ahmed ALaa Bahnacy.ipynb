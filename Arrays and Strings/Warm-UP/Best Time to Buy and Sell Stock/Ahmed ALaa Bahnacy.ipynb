{
 "cells": [
  {
   "cell_type": "markdown",
   "id": "c818b2bf-2ea3-4450-9c16-687fd9b27e88",
   "metadata": {},
   "source": [
    "# Best Time to Buy and Sell Stock"
   ]
  },
  {
   "cell_type": "markdown",
   "id": "d0914aa9-1f74-4dbb-93f3-3debf3003ff3",
   "metadata": {},
   "source": [
    "Problem: Best Time to Buy and Sell Stock\n",
    "Problem link: https://leetcode.com/problems/best-time-to-buy-and-sell-stock/description/\n",
    "\n",
    "You are given an array prices where prices[i] is the price of a given stock on the ith day.\n",
    "\n",
    "You want to maximize your profit by choosing a single day to buy one stock and choosing a different day in the future to sell that stock.\n",
    "\n",
    "Return the maximum profit you can achieve from this transaction. If you cannot achieve any profit, return 0."
   ]
  },
  {
   "cell_type": "markdown",
   "id": "2a6c8593-61df-4d4d-9833-e559acd46d82",
   "metadata": {},
   "source": [
    "## Example 1 :"
   ]
  },
  {
   "cell_type": "markdown",
   "id": "6fd06281-0c2f-4afa-a2ed-933a994eddcd",
   "metadata": {},
   "source": [
    "input: prices = [7,1,5,3,6,4]\n",
    "\n",
    "Output: 5\n",
    "\n",
    "Explanation: Buy on day 2 (price = 1) and sell on day 5 (price = 6), profit = 6-1 = 5.\n",
    "\n",
    "Note that buying on day 2 and selling on day 1 is not allowed because you must buy before you sell."
   ]
  },
  {
   "cell_type": "markdown",
   "id": "3582f0d1-72f2-4fc5-a692-f09301e1996a",
   "metadata": {},
   "source": [
    "## Example 2 :"
   ]
  },
  {
   "cell_type": "markdown",
   "id": "ca0441a1-8091-43ad-a7a0-33b8b15b583f",
   "metadata": {},
   "source": [
    "Input: prices = [7,6,4,3,1]\n",
    "\n",
    "Output: 0\n",
    "\n",
    "Explanation: In this case, no transactions are done and the max profit = 0."
   ]
  },
  {
   "cell_type": "markdown",
   "id": "463b855e-83c4-4306-b266-c738115fb68c",
   "metadata": {},
   "source": [
    "## Solution in BigO(n^2)"
   ]
  },
  {
   "cell_type": "code",
   "execution_count": null,
   "id": "75c18cc1-5e6e-4cf7-b667-d890b61a7769",
   "metadata": {},
   "outputs": [],
   "source": [
    "def MaxProfit(prices):\n",
    "  N=len(prices)\n",
    "  Max_Profit=0\n",
    "  for i in range(N-1) :\n",
    "    Best_Sell = prices[i+1 : ]\n",
    "    profit = max(Best_Sell) - prices[i]\n",
    "    Max_Profit=max(profit,Max_Profit)\n",
    "  if Max_Profit > 0:\n",
    "    return Max_Profit\n",
    "  else:\n",
    "    return 0"
   ]
  },
  {
   "cell_type": "markdown",
   "id": "e48cc10d-9232-4eaa-a0ce-c4b638ee6a8c",
   "metadata": {},
   "source": [
    "## Solution Explaination "
   ]
  },
  {
   "cell_type": "markdown",
   "id": "8d03ba7b-8d09-4351-9c31-6ccd2afb9dd9",
   "metadata": {},
   "source": [
    "    The function MaxProfit(prices) finds the maximum profit from buying and selling a stock once:"
   ]
  },
  {
   "cell_type": "markdown",
   "id": "c0de8128-f746-4ef5-95ee-e7b9da1ca640",
   "metadata": {},
   "source": [
    "1. **Initialize Variables**"
   ]
  },
  {
   "cell_type": "markdown",
   "id": "a49aa044-18fd-40bd-b3c1-bf81fd886248",
   "metadata": {},
   "source": [
    "       - N = len(prices): Length of the price list.\n",
    "  \n",
    "       - Max_Profit = 0: Tracks the maximum profit found."
   ]
  },
  {
   "cell_type": "markdown",
   "id": "292f9c2d-642f-4850-81d7-2b2b9e67fced",
   "metadata": {},
   "source": [
    "2. **Loop Through Prices:**"
   ]
  },
  {
   "cell_type": "markdown",
   "id": "61f7cddb-f2f1-49a6-b13c-40c69bc5de77",
   "metadata": {},
   "source": [
    "     For each day i (from 0 to N-2), consider it as the buying day:"
   ]
  },
  {
   "cell_type": "markdown",
   "id": "7cb264f7-baef-4a31-8015-5e85ac9cbef9",
   "metadata": {},
   "source": [
    "3.  **Find Best Selling Price**"
   ]
  },
  {
   "cell_type": "markdown",
   "id": "bd572c53-001b-40d8-9560-d1146c9a06ad",
   "metadata": {},
   "source": [
    "    Best_Sell = prices[i+1:] extracts prices after day i."
   ]
  },
  {
   "cell_type": "markdown",
   "id": "a539dcf2-0d38-4d18-b125-766245274124",
   "metadata": {},
   "source": [
    "4.  **Calculate Profit**"
   ]
  },
  {
   "cell_type": "markdown",
   "id": "e5e5b391-2fbb-4325-bd03-0a35add634f5",
   "metadata": {},
   "source": [
    "    profit = max(Best_Sell) - prices[i] computes potential profit if selling at the max price after buying."
   ]
  },
  {
   "cell_type": "markdown",
   "id": "88810bdc-004c-4230-9695-e6a36b0fdf5e",
   "metadata": {},
   "source": [
    "5.  **Update Profit**"
   ]
  },
  {
   "cell_type": "markdown",
   "id": "4547f8c2-dd69-4872-8d9b-b858137b4569",
   "metadata": {},
   "source": [
    "    Max_Profit = max(profit, Max_Profit) keeps track of the maximum profit found."
   ]
  },
  {
   "cell_type": "markdown",
   "id": "fb9dbb2b-9947-4fba-bf46-26754ed74390",
   "metadata": {},
   "source": [
    "6.  **Return Result**"
   ]
  },
  {
   "cell_type": "markdown",
   "id": "0571a18a-509d-4d22-99c0-187db39181b4",
   "metadata": {},
   "source": [
    "    If Max_Profit > 0, return it; otherwise, return 0."
   ]
  },
  {
   "cell_type": "markdown",
   "id": "e030d7f5-9b31-4592-ad76-21307aa4699e",
   "metadata": {},
   "source": [
    "#### Time Complexity "
   ]
  },
  {
   "cell_type": "markdown",
   "id": "b744249e-4cf1-4dc8-9c42-6f4888921b92",
   "metadata": {},
   "source": [
    "   **BigO(n^2)**\n"
   ]
  },
  {
   "cell_type": "code",
   "execution_count": 70,
   "id": "11e3cb07-a5b1-4167-bd31-b8bcea69c290",
   "metadata": {},
   "outputs": [
    {
     "name": "stdout",
     "output_type": "stream",
     "text": [
      "5\n",
      "0\n"
     ]
    }
   ],
   "source": [
    "####Testing\n",
    "prices = [7,1,5,3,6,4]\n",
    "print(MaxProfit(prices))\n",
    "prices = [7,6,4,3,1]\n",
    "print(MaxProfit(prices))"
   ]
  }
 ],
 "metadata": {
  "kernelspec": {
   "display_name": "Python 3 (ipykernel)",
   "language": "python",
   "name": "python3"
  },
  "language_info": {
   "codemirror_mode": {
    "name": "ipython",
    "version": 3
   },
   "file_extension": ".py",
   "mimetype": "text/x-python",
   "name": "python",
   "nbconvert_exporter": "python",
   "pygments_lexer": "ipython3",
   "version": "3.12.4"
  }
 },
 "nbformat": 4,
 "nbformat_minor": 5
}
