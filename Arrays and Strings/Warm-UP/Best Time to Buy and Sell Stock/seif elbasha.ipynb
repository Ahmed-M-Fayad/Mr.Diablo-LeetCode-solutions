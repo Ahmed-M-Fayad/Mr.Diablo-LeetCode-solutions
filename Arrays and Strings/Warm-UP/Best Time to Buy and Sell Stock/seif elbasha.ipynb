{
 "cells": [
  {
   "cell_type": "code",
   "execution_count": null,
   "id": "7ebc6fe3",
   "metadata": {},
   "outputs": [],
   "source": [
    "class Solution:\n",
    "    def maxProfit(self, prices: List[int]) -> int:\n",
    "        mn = float('inf')\n",
    "        mx = 0\n",
    "        for p in prices:\n",
    "            ans = 0\n",
    "            if mn > p:\n",
    "                mn = p\n",
    "            elif mx < p-mn:\n",
    "                mx = p - mn\n",
    "        return mx"
   ]
  }
 ],
 "metadata": {
  "language_info": {
   "name": "python"
  }
 },
 "nbformat": 4,
 "nbformat_minor": 5
}
