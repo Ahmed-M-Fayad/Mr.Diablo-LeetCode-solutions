{
 "cells": [
  {
   "cell_type": "markdown",
   "metadata": {},
   "source": [
    "# Best Time to Buy and Sell Stock"
   ]
  },
  {
   "cell_type": "markdown",
   "metadata": {},
   "source": [
    "Problem: Best Time to Buy and Sell Stock <br>\n",
    "Problem link: https://leetcode.com/problems/best-time-to-buy-and-sell-stock/description/ <br>"
   ]
  },
  {
   "cell_type": "markdown",
   "metadata": {},
   "source": [
    "You are given an array prices where prices[i] is the price of a given stock on the ith day.\n",
    "\n",
    "You want to maximize your profit by choosing a single day to buy one stock and choosing a different day in the future to sell that stock.\n",
    "\n",
    "Return the maximum profit you can achieve from this transaction. If you cannot achieve any profit, return 0."
   ]
  },
  {
   "cell_type": "markdown",
   "metadata": {},
   "source": [
    "**Example 1:**\n",
    "\n",
    "Input: prices = [7,1,5,3,6,4]\n",
    "\n",
    "Output: 5\n",
    "\n",
    "Explanation: Buy on day 2 (price = 1) and sell on day 5 (price = 6), profit = 6-1 = 5.\n",
    "\n",
    "Note that buying on day 2 and selling on day 1 is not allowed because you must buy before you sell."
   ]
  },
  {
   "cell_type": "markdown",
   "metadata": {},
   "source": [
    "**Example 2:**\n",
    "\n",
    "Input: prices = [7,6,4,3,1]\n",
    "\n",
    "Output: 0\n",
    "\n",
    "Explanation: In this case, no transactions are done and the max profit = 0."
   ]
  },
  {
   "cell_type": "markdown",
   "metadata": {},
   "source": [
    "## Solution in BigO(n^2)"
   ]
  },
  {
   "cell_type": "code",
   "execution_count": 39,
   "metadata": {},
   "outputs": [],
   "source": [
    "from typing import List\n",
    "\n",
    "def solution(prices: List[int]) -> int:\n",
    "    if len(prices) <= 1:\n",
    "        return 0\n",
    "    \n",
    "    max_profit = 0\n",
    "    profits = []\n",
    "    for i in range(len(prices)):\n",
    "        for j in range(i+1, len(prices)):\n",
    "            profits.append(prices[j] - prices[i])\n",
    "            \n",
    "        if max(profits) > max_profit:\n",
    "            max_profit = max(profits)\n",
    "            \n",
    "    return max_profit"
   ]
  },
  {
   "cell_type": "markdown",
   "metadata": {},
   "source": [
    "**Solution Explaination** <br>\n",
    "Firstly, i have set a condtion that returns 0 if list length less than or equal to one since there is no profit that can be calculated from one price in one day.\n",
    "\n",
    "Defined a loop that iterates on prices and another loop for calculating profits and adding profits to the profits list\n",
    "\n",
    "Finally, comparing the profits maximum every time with the max profit recorded for uppdating the max profit"
   ]
  },
  {
   "cell_type": "markdown",
   "metadata": {},
   "source": [
    "Space Complexity: BigO(n^2)"
   ]
  },
  {
   "cell_type": "code",
   "execution_count": null,
   "metadata": {},
   "outputs": [
    {
     "name": "stdout",
     "output_type": "stream",
     "text": [
      "5\n",
      "0\n"
     ]
    }
   ],
   "source": [
    "# Testing\n",
    "prices = [7,1,5,3,6,4]\n",
    "print(solution(prices))\n",
    "prices = [7,6,4,3,1]\n",
    "print(solution(prices))"
   ]
  },
  {
   "cell_type": "markdown",
   "metadata": {},
   "source": [
    "## Solution in BigO(n)"
   ]
  },
  {
   "cell_type": "code",
   "execution_count": 41,
   "metadata": {},
   "outputs": [],
   "source": [
    "from typing import List\n",
    "\n",
    "def optimized_solution(prices: List[int]) -> int:\n",
    "    max_profit = 0\n",
    "    min_price = prices[0]\n",
    "    for price in prices:\n",
    "        if price < min_price:\n",
    "            min_price = price\n",
    "            \n",
    "        profit = price - min_price\n",
    "                        \n",
    "        if profit > max_profit:\n",
    "            max_profit = profit\n",
    "            \n",
    "    return max_profit"
   ]
  },
  {
   "cell_type": "markdown",
   "metadata": {},
   "source": [
    "**Solution Explaination** <br>\n",
    "Optimization has reduced space complexity to BigO(n) which in fact a solution of BigO(n^2) will not be accepted since it exceedes time limit\n",
    "\n",
    "So, we have defined two variables that works pretty much like a harmonic dual the first one (min_price) that tracks min_prices along days and the (max_profit) that is carefully keep the max profit recoded so far when its friend (min_profit) sees if there is any good price else that generates more profitability"
   ]
  },
  {
   "cell_type": "markdown",
   "metadata": {},
   "source": [
    "Space Complex: BigO(n)"
   ]
  },
  {
   "cell_type": "code",
   "execution_count": 43,
   "metadata": {},
   "outputs": [
    {
     "name": "stdout",
     "output_type": "stream",
     "text": [
      "5\n",
      "0\n"
     ]
    }
   ],
   "source": [
    "# Testing\n",
    "prices = [7,1,5,3,6,4]\n",
    "print(optimized_solution(prices))\n",
    "prices = [7,6,4,3,1]\n",
    "print(optimized_solution(prices))"
   ]
  }
 ],
 "metadata": {
  "kernelspec": {
   "display_name": "Python 3",
   "language": "python",
   "name": "python3"
  },
  "language_info": {
   "codemirror_mode": {
    "name": "ipython",
    "version": 3
   },
   "file_extension": ".py",
   "mimetype": "text/x-python",
   "name": "python",
   "nbconvert_exporter": "python",
   "pygments_lexer": "ipython3",
   "version": "3.12.1"
  }
 },
 "nbformat": 4,
 "nbformat_minor": 2
}
