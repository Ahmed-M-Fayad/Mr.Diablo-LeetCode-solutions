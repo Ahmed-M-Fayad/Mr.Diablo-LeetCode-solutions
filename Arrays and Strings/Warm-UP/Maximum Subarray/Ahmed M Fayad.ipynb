{
 "cells": [
  {
   "cell_type": "markdown",
   "metadata": {},
   "source": [
    "# Maximum Subarray"
   ]
  },
  {
   "cell_type": "markdown",
   "metadata": {},
   "source": [
    "Problem: Maximum Subarray\n",
    "\n",
    "Problem Link: https://leetcode.com/problems/maximum-subarray"
   ]
  },
  {
   "cell_type": "markdown",
   "metadata": {},
   "source": [
    "Given an integer array nums, find the subarray with the largest sum, and return its sum."
   ]
  },
  {
   "cell_type": "markdown",
   "metadata": {},
   "source": [
    "**Example 1**:\n",
    "Input: nums = [-2,1,-3,4,-1,2,1,-5,4]\n",
    "\n",
    "Output: 6\n",
    "\n",
    "Explanation: The subarray [4,-1,2,1] has the largest sum 6."
   ]
  },
  {
   "cell_type": "markdown",
   "metadata": {},
   "source": [
    "**Example 2**:\n",
    "\n",
    "Input: nums = [1]\n",
    "\n",
    "Output: 1\n",
    "\n",
    "Explanation: The subarray [1] has the largest sum 1."
   ]
  },
  {
   "cell_type": "markdown",
   "metadata": {},
   "source": [
    "**Example 3**:\n",
    "\n",
    "Input: nums = [5,4,-1,7,8]\n",
    "\n",
    "Output: 23\n",
    "\n",
    "Explanation: The subarray [5,4,-1,7,8] has the largest sum 23."
   ]
  },
  {
   "cell_type": "markdown",
   "metadata": {},
   "source": [
    "## Solution"
   ]
  },
  {
   "cell_type": "code",
   "execution_count": 35,
   "metadata": {},
   "outputs": [],
   "source": [
    "from typing import List\n",
    "\n",
    "def solution(nums: List[int]) -> int:\n",
    "    max_sum = float('-inf')\n",
    "    calculted_sum = 0\n",
    "    \n",
    "    for num in nums:\n",
    "        calculted_sum += num\n",
    "        \n",
    "        if calculted_sum > max_sum: max_sum = calculted_sum\n",
    "        \n",
    "        if calculted_sum < 0: calculted_sum = 0\n",
    "    \n",
    "    return max_sum"
   ]
  },
  {
   "cell_type": "markdown",
   "metadata": {},
   "source": [
    "#### **Solution Explanation**\n",
    "\n",
    "This solution implements **Kadane's Algorithm** to find the maximum sum of a contiguous subarray in \\( O(n) \\) time.\n",
    "\n",
    "\n",
    "##### Main Ideas:\n",
    "1. **Track Two Values**:\n",
    "   - `max_sum`: The maximum sum of any subarray found so far.\n",
    "   - `calculted_sum`: The running sum of the current subarray.\n",
    "\n",
    "2. **Iterate Through the Array**:\n",
    "   - Add each number to `calculted_sum`.\n",
    "   - Update `max_sum` if `calculted_sum` exceeds the current `max_sum`.\n",
    "   - Reset `calculted_sum` to `0` if it becomes negative to start a new subarray.\n",
    "\n",
    "\n",
    "##### Key Insight:\n",
    "Kadane's Algorithm efficiently handles both positive and negative numbers by:\n",
    "- Discarding subarrays with negative sums.\n",
    "- Focusing on subarrays with potential for higher sums.\n",
    "\n",
    "This approach ensures a single pass through the array and uses constant space.\n"
   ]
  },
  {
   "cell_type": "markdown",
   "metadata": {},
   "source": [
    "**Space Comlplexity**: BigO(n) (Worst Case)"
   ]
  },
  {
   "cell_type": "code",
   "execution_count": 38,
   "metadata": {},
   "outputs": [
    {
     "name": "stdout",
     "output_type": "stream",
     "text": [
      "3\n",
      "21\n"
     ]
    }
   ],
   "source": [
    "# Testing\n",
    "nums = [-2,1,-3,4,-1,2,1,-5,4]\n",
    "print(solution(nums))\n",
    "nums2 = [9,4,9,8,4]\n",
    "print(solution(nums2))"
   ]
  }
 ],
 "metadata": {
  "kernelspec": {
   "display_name": "Python 3",
   "language": "python",
   "name": "python3"
  },
  "language_info": {
   "codemirror_mode": {
    "name": "ipython",
    "version": 3
   },
   "file_extension": ".py",
   "mimetype": "text/x-python",
   "name": "python",
   "nbconvert_exporter": "python",
   "pygments_lexer": "ipython3",
   "version": "3.12.1"
  }
 },
 "nbformat": 4,
 "nbformat_minor": 2
}
