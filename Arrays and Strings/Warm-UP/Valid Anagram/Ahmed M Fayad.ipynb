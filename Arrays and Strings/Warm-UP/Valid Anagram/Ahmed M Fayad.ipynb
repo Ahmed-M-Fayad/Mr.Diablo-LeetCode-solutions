{
 "cells": [
  {
   "cell_type": "markdown",
   "metadata": {},
   "source": [
    "# Valid Anagram"
   ]
  },
  {
   "cell_type": "markdown",
   "metadata": {},
   "source": [
    "Problem: Valid Anagram <br>\n",
    "Problem link: https://leetcode.com/problems/valid-anagram/description/ <br>"
   ]
  },
  {
   "cell_type": "markdown",
   "metadata": {},
   "source": [
    "Given two strings s and t, return true if t is an  anagram of s, and false otherwise."
   ]
  },
  {
   "cell_type": "markdown",
   "metadata": {},
   "source": [
    "**Example 1:**\n",
    "\n",
    "Input: s = \"anagram\", t = \"nagaram\"\n",
    "\n",
    "Output: true\n"
   ]
  },
  {
   "cell_type": "markdown",
   "metadata": {},
   "source": [
    "**Example 2:**\n",
    "\n",
    "Input: s = \"rat\", t = \"car\"\n",
    "\n",
    "Output: false"
   ]
  },
  {
   "cell_type": "markdown",
   "metadata": {},
   "source": [
    "**Follow up**: What if the inputs contain Unicode characters? How would you adapt your solution to such a case?"
   ]
  },
  {
   "cell_type": "markdown",
   "metadata": {},
   "source": [
    "### Solution in BigO(n) using built-in Counter"
   ]
  },
  {
   "cell_type": "code",
   "execution_count": 71,
   "metadata": {},
   "outputs": [],
   "source": [
    "from collections import Counter\n",
    "def solution(s: str, t: str) -> bool: return Counter(s) == Counter(t)"
   ]
  },
  {
   "cell_type": "markdown",
   "metadata": {},
   "source": [
    "**Solution Explaination** <br>\n",
    "By using the amazing magic of Counter function from collections library to calculate all occurances of an element inside the the string and comparing that with the other string to determine if it is anagram or not"
   ]
  },
  {
   "cell_type": "markdown",
   "metadata": {},
   "source": [
    "**Space Complexity**: BigO(u) , Where u <= (characters(s) + characters(t))"
   ]
  },
  {
   "cell_type": "markdown",
   "metadata": {},
   "source": [
    "### Solution in BigO(n) using handcrafted counting and built-in sorting"
   ]
  },
  {
   "cell_type": "code",
   "execution_count": 75,
   "metadata": {},
   "outputs": [],
   "source": [
    "def detailed_solution(s: str, t: str) -> bool:\n",
    "    dict_s = {}\n",
    "    dict_t = {}\n",
    "    for element_s in s:\n",
    "        dict_s[element_s] = s.count(element_s)\n",
    "    for element_t in t:\n",
    "        dict_t[element_t] = t.count(element_t)\n",
    "    sorted(dict_s.keys())\n",
    "    sorted(dict_t.keys())\n",
    "    return dict_s == dict_t"
   ]
  },
  {
   "cell_type": "markdown",
   "metadata": {},
   "source": [
    "**Solution Explaination** <br>\n",
    "Since We have used built-in Counter in the previous solution, We can tell that this solution is a crappy representation of built-in Counter that perform just like Counter"
   ]
  },
  {
   "cell_type": "markdown",
   "metadata": {},
   "source": [
    "**Space Complexity**: BigO(u) , Where u <= (characters(s) + characters(t)) ignoring sorting complexity since we are sorting unique keys in-place not using extra memory"
   ]
  },
  {
   "cell_type": "code",
   "execution_count": 78,
   "metadata": {},
   "outputs": [
    {
     "name": "stdout",
     "output_type": "stream",
     "text": [
      "True\n",
      "False\n"
     ]
    }
   ],
   "source": [
    "# Testing\n",
    "s = \"anagram\"\n",
    "t = \"nagaram\"\n",
    "print(solution(s, t))\n",
    "s = \"a\"\n",
    "t = \"aa\"\n",
    "print(detailed_solution(s, t))"
   ]
  },
  {
   "cell_type": "markdown",
   "metadata": {},
   "source": [
    "### Simplest solution"
   ]
  },
  {
   "cell_type": "code",
   "execution_count": 77,
   "metadata": {},
   "outputs": [],
   "source": [
    "# Solutiion in BigO(n)\n",
    "from typing import List\n",
    "\n",
    "def simplest_solution(s: str, t: str) -> bool:\n",
    "    return sorted(s) == sorted(t)"
   ]
  },
  {
   "cell_type": "markdown",
   "metadata": {},
   "source": [
    "**Solution Explaination** <br>\n",
    "Sorting all characters and comparing the two strings"
   ]
  },
  {
   "cell_type": "markdown",
   "metadata": {},
   "source": [
    "Space Complexity: BigO(u)"
   ]
  },
  {
   "cell_type": "code",
   "execution_count": 80,
   "metadata": {},
   "outputs": [
    {
     "name": "stdout",
     "output_type": "stream",
     "text": [
      "True\n",
      "False\n"
     ]
    }
   ],
   "source": [
    "# Testing\n",
    "s = \"anagram\"\n",
    "t = \"nagaram\"\n",
    "print(simplest_solution(s, t))\n",
    "s = \"a\"\n",
    "t = \"aa\"\n",
    "print(simplest_solution(s, t))"
   ]
  }
 ],
 "metadata": {
  "kernelspec": {
   "display_name": "Python 3",
   "language": "python",
   "name": "python3"
  },
  "language_info": {
   "codemirror_mode": {
    "name": "ipython",
    "version": 3
   },
   "file_extension": ".py",
   "mimetype": "text/x-python",
   "name": "python",
   "nbconvert_exporter": "python",
   "pygments_lexer": "ipython3",
   "version": "3.12.1"
  }
 },
 "nbformat": 4,
 "nbformat_minor": 2
}
