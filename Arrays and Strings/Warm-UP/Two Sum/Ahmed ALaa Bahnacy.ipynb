{
 "cells": [
  {
   "cell_type": "markdown",
   "id": "9b7446fb-4f2e-46cc-9958-7b44699ef196",
   "metadata": {},
   "source": [
    "# Two Sum"
   ]
  },
  {
   "cell_type": "markdown",
   "id": "30a8a2f0-9cf3-4933-b03b-6d91e8e3929e",
   "metadata": {},
   "source": [
    "Given an array of integers nums and an integer target, return indices of the two numbers such that they add up to target. You may assume that each input would have exactly one solution, and you may not use the same element twice. You can return the answer in any order.\r\n",
    "\r\n",
    "Example 1:\r\n",
    "\r\n",
    "Input: nums = [2,7,11,15], target = 9\r\n",
    "\r\n",
    "Output: [0,1]\r\n",
    "\r\n",
    "Explanation: Because nums[0] + nums[1] == 9, we return [0, 1].\r\n",
    "\r\n",
    "Example 2:\r\n",
    "\r\n",
    "Input: nums = [3,2,4], target = 6\r\n",
    "\r\n",
    "Output: [1,2]\r\n",
    "\r\n",
    "Example 3:\r\n",
    "\r\n",
    "Input: nums = [3,3], target = 6\r\n",
    "\r\n",
    "Output: [0,1]\r\n",
    "\r\n",
    "Follow-up: Can you come up with an algorithm that is less than O(n2) time complexity?"
   ]
  },
  {
   "cell_type": "markdown",
   "id": "4cc128b6-d29a-4531-9fa3-9d73b8114a6e",
   "metadata": {},
   "source": [
    "# Solution in BigO(n^2)"
   ]
  },
  {
   "cell_type": "markdown",
   "id": "80687d86-94a8-434b-8bc9-2b99141b1fcb",
   "metadata": {},
   "source": [
    "The outer loop i goes through each number.\n",
    "The inner loop j checks numbers after i to avoid duplicates."
   ]
  },
  {
   "cell_type": "markdown",
   "id": "72464476-5657-4e68-a173-8e6a6a020a70",
   "metadata": {},
   "source": [
    "### Check The Sum :"
   ]
  },
  {
   "cell_type": "markdown",
   "id": "50ce8062-823b-45cd-86cb-36713d4c791e",
   "metadata": {},
   "source": [
    "If nums[i] + nums[j] == target, return [i, j]."
   ]
  },
  {
   "cell_type": "markdown",
   "id": "e1d12a26-3264-4031-8561-7ff2150aedd9",
   "metadata": {},
   "source": [
    "### Note :"
   ]
  },
  {
   "cell_type": "markdown",
   "id": "fad2fbf7-5494-46b4-8148-4b4028fb16ff",
   "metadata": {},
   "source": [
    "i don't make return None causing to it returns None by default if No pairs Found"
   ]
  },
  {
   "cell_type": "markdown",
   "id": "df7ddcd3-dff1-48ac-b3e4-c568758a6e02",
   "metadata": {},
   "source": [
    "### Space Complexity :"
   ]
  },
  {
   "cell_type": "markdown",
   "id": "bc1ed00d-c152-44c0-9749-3d13ff11779e",
   "metadata": {},
   "source": [
    "BigO(n^2)"
   ]
  },
  {
   "cell_type": "code",
   "execution_count": null,
   "id": "59c12999-1eb3-45ae-aac9-26adc75db9d0",
   "metadata": {},
   "outputs": [],
   "source": [
    "nums = [2,7,11,15]\n",
    "target = 9\n",
    "print(twoSum(nums, target))\n",
    "nums = [3,2,4]\n",
    "target = 6\n",
    "print(twoSum(nums, target))\n",
    "nums = [3,3]\n",
    "target = 6\n",
    "print(twoSum(nums, target))"
   ]
  },
  {
   "cell_type": "markdown",
   "id": "a46d0d71-6827-4419-a379-bd3476ef141b",
   "metadata": {},
   "source": [
    "[0, 1]\n",
    "[1, 2]\n",
    "[0, 1]"
   ]
  },
  {
   "cell_type": "markdown",
   "id": "07d37838-1322-4aed-b7e0-f034c91ad001",
   "metadata": {},
   "source": [
    "# Solution in BigO(n)"
   ]
  },
  {
   "cell_type": "code",
   "execution_count": null,
   "id": "fd76dcd1-11c9-4573-9f4d-f6a5658cfab3",
   "metadata": {},
   "outputs": [],
   "source": [
    "def twoSum(nums,target):\n",
    "  cache={}\n",
    "  for i in range(len(nums)) :\n",
    "    val = target - nums[i]\n",
    "    if val in cache :\n",
    "      return [cache[val],i]\n",
    "    cache[nums[i]]=i "
   ]
  },
  {
   "cell_type": "markdown",
   "id": "5024c8a5-106c-44dd-8063-e08ccd6755a5",
   "metadata": {},
   "source": [
    "### Solution Explaination"
   ]
  },
  {
   "cell_type": "markdown",
   "id": "f0fb196a-8714-4314-9722-bd916a080df8",
   "metadata": {},
   "source": [
    "#### Using Cache : "
   ]
  },
  {
   "cell_type": "markdown",
   "id": "c0a03cd3-e18e-4417-a5b8-7b2198672261",
   "metadata": {},
   "source": [
    "The function uses a dictionary (cache) to store previously seen numbers and their indices."
   ]
  },
  {
   "cell_type": "markdown",
   "id": "d1554b84-a9bb-4fad-aa86-6d4f472fb83d",
   "metadata": {},
   "source": [
    "#### Loop :"
   ]
  },
  {
   "cell_type": "markdown",
   "id": "a78d3699-2ed5-455d-aa6d-50e27b470857",
   "metadata": {},
   "source": [
    "It loops through the list of numbers (nums), calculating the complement (val = target - nums[i])."
   ]
  },
  {
   "cell_type": "markdown",
   "id": "c121ffa8-e5f4-4a2a-a491-eb12c46ce4d3",
   "metadata": {},
   "source": [
    "#### Check :"
   ]
  },
  {
   "cell_type": "markdown",
   "id": "e72c1405-51b2-4228-a894-74df5d6af8ab",
   "metadata": {},
   "source": [
    " If the complement (val) is already in the dictionary, the function returns the indices: [cache[val], i]."
   ]
  },
  {
   "cell_type": "markdown",
   "id": "cf0b2b8f-2088-4490-b87a-f1de3ab8dd2e",
   "metadata": {},
   "source": [
    "#### Store :"
   ]
  },
  {
   "cell_type": "markdown",
   "id": "6f3dd733-09f1-4296-b84e-6561ae67c939",
   "metadata": {},
   "source": [
    "If the complement isn't found, the current number and its index are added to the dictionary (cache[nums[i]] = i)."
   ]
  },
  {
   "cell_type": "markdown",
   "id": "57ecdd23-1200-4cec-87aa-ea125ed3d0f7",
   "metadata": {},
   "source": [
    "#### Space Complexity :"
   ]
  },
  {
   "cell_type": "markdown",
   "id": "a83db9b6-6cdf-480d-a4e4-a74bd84a8f15",
   "metadata": {},
   "source": [
    "BigO(n)"
   ]
  },
  {
   "cell_type": "code",
   "execution_count": null,
   "id": "2608770d-b04e-4f70-9826-7360c278a731",
   "metadata": {},
   "outputs": [],
   "source": [
    "## Testing\n",
    "nums = [2,7,11,15]\n",
    "target = 9\n",
    "print(twoSum(nums, target))\n",
    "nums = [3,2,4]\n",
    "target = 6\n",
    "print(twoSum(nums, target))\n",
    "nums = [3,3]\n",
    "target = 6\n",
    "print(twoSum(nums, target))"
   ]
  },
  {
   "cell_type": "markdown",
   "id": "fbf867f8-e45d-41e0-bcb1-91e04ce1c659",
   "metadata": {},
   "source": [
    "[0, 1] [1, 2] [0, 1]"
   ]
  },
  {
   "cell_type": "code",
   "execution_count": null,
   "id": "f8878aad-b69e-4c3e-b3c2-964d550246d0",
   "metadata": {},
   "outputs": [],
   "source": []
  }
 ],
 "metadata": {
  "kernelspec": {
   "display_name": "Python 3 (ipykernel)",
   "language": "python",
   "name": "python3"
  },
  "language_info": {
   "codemirror_mode": {
    "name": "ipython",
    "version": 3
   },
   "file_extension": ".py",
   "mimetype": "text/x-python",
   "name": "python",
   "nbconvert_exporter": "python",
   "pygments_lexer": "ipython3",
   "version": "3.12.4"
  }
 },
 "nbformat": 4,
 "nbformat_minor": 5
}
