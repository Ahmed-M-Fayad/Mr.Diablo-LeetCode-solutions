{
 "cells": [
  {
   "cell_type": "markdown",
   "metadata": {},
   "source": [
    "# Two Sum"
   ]
  },
  {
   "cell_type": "markdown",
   "metadata": {},
   "source": [
    "Problem: Two Sum <br>\n",
    "Problem link: https://leetcode.com/problems/two-sum/ <br>"
   ]
  },
  {
   "cell_type": "markdown",
   "metadata": {},
   "source": [
    "Given an array of integers nums and an integer target, return indices of the two numbers such that they add up to target.\n",
    "You may assume that each input would have exactly one solution, and you may not use the same element twice.\n",
    "You can return the answer in any order."
   ]
  },
  {
   "cell_type": "markdown",
   "metadata": {},
   "source": [
    "Example 1:\n",
    "\n",
    "Input: nums = [2,7,11,15], target = 9\n",
    "\n",
    "Output: [0,1]\n",
    "\n",
    "Explanation: Because nums[0] + nums[1] == 9, we return [0, 1].\n"
   ]
  },
  {
   "cell_type": "markdown",
   "metadata": {},
   "source": [
    "Example 2:\n",
    "\n",
    "Input: nums = [3,2,4], target = 6\n",
    "\n",
    "Output: [1,2]"
   ]
  },
  {
   "cell_type": "markdown",
   "metadata": {},
   "source": [
    "Example 3:\n",
    "\n",
    "Input: nums = [3,3], target = 6\n",
    "\n",
    "Output: [0,1]"
   ]
  },
  {
   "cell_type": "markdown",
   "metadata": {},
   "source": [
    "Follow-up: Can you come up with an algorithm that is less than O(n2) time complexity?"
   ]
  },
  {
   "cell_type": "markdown",
   "metadata": {},
   "source": [
    "### Solution in BigO(n^2)"
   ]
  },
  {
   "cell_type": "code",
   "execution_count": 1,
   "metadata": {},
   "outputs": [],
   "source": [
    "from typing import List\n",
    "\n",
    "def solution(nums: List[int], target: int) -> List[int]:\n",
    "    indcies = []\n",
    "    \n",
    "    for num_1 in range(len(nums)):\n",
    "        for num_2 in range(len(nums)):\n",
    "            if (num_1 != num_2) and (nums[num_1] + nums[num_2] == target): return [num_1, num_2]\n",
    "\n",
    "    return [None]"
   ]
  },
  {
   "cell_type": "markdown",
   "metadata": {},
   "source": [
    "**Solution Explaination** <br>\n",
    "since we need to find two values to be added and equal to the target value in the same list we need to iterate it twice for trying every element with other but we notice that a blind looping can lead to adding the element with itself so we add the condtion that the element should not equal itself when trying the sum, **But Notice** that this under the condition that the list has only one solution possible"
   ]
  },
  {
   "cell_type": "markdown",
   "metadata": {},
   "source": [
    "Space Complexity: BigO(n^2)"
   ]
  },
  {
   "cell_type": "code",
   "execution_count": null,
   "metadata": {},
   "outputs": [
    {
     "name": "stdout",
     "output_type": "stream",
     "text": [
      "[0, 1]\n",
      "[1, 2]\n",
      "[0, 1]\n"
     ]
    }
   ],
   "source": [
    "# Testing\n",
    "nums = [2,7,11,15]\n",
    "target = 9\n",
    "print(solution(nums, target))\n",
    "nums = [3,2,4]\n",
    "target = 6\n",
    "print(solution(nums, target))\n",
    "nums = [3,3]\n",
    "target = 6\n",
    "print(solution(nums, target))"
   ]
  },
  {
   "cell_type": "markdown",
   "metadata": {},
   "source": [
    "### Solution in BigO(n)"
   ]
  },
  {
   "cell_type": "code",
   "execution_count": null,
   "metadata": {},
   "outputs": [],
   "source": [
    "# Solutiion in BigO(n)\n",
    "from typing import List\n",
    "\n",
    "def optimized_solution(nums: List[int], target: int) -> List[int]:\n",
    "    previous_values = {}\n",
    "    \n",
    "    for i, value in enumerate(nums):\n",
    "        compelement = target - value\n",
    "        \n",
    "        if compelement in previous_values : return [previous_values[compelement], i]\n",
    "        \n",
    "        previous_values[value] = i\n",
    "\n",
    "    return [None]"
   ]
  },
  {
   "cell_type": "markdown",
   "metadata": {},
   "source": [
    "**Solution Explaination** <br>\n",
    "An optimized solution that can be introduced is to reserve previous values for comparsion with iterated ones so you can go with the solution in a BigO(n), **But Notice** that this under the condition that the list has only one solution possible"
   ]
  },
  {
   "cell_type": "markdown",
   "metadata": {},
   "source": [
    "Space Complexity: BigO(n)"
   ]
  },
  {
   "cell_type": "code",
   "execution_count": 16,
   "metadata": {},
   "outputs": [
    {
     "name": "stdout",
     "output_type": "stream",
     "text": [
      "[0, 1]\n",
      "[1, 2]\n",
      "[0, 1]\n"
     ]
    }
   ],
   "source": [
    "# Testing\n",
    "nums = [2,7,11,15]\n",
    "target = 9\n",
    "print(optimized_solution(nums, target))\n",
    "nums = [3,2,4]\n",
    "target = 6\n",
    "print(optimized_solution(nums, target))\n",
    "nums = [3,3]\n",
    "target = 6\n",
    "print(optimized_solution(nums, target))"
   ]
  }
 ],
 "metadata": {
  "kernelspec": {
   "display_name": "Python 3",
   "language": "python",
   "name": "python3"
  },
  "language_info": {
   "codemirror_mode": {
    "name": "ipython",
    "version": 3
   },
   "file_extension": ".py",
   "mimetype": "text/x-python",
   "name": "python",
   "nbconvert_exporter": "python",
   "pygments_lexer": "ipython3",
   "version": "3.12.1"
  }
 },
 "nbformat": 4,
 "nbformat_minor": 2
}
