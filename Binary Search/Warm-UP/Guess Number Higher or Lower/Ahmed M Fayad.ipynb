{
 "cells": [
  {
   "cell_type": "markdown",
   "metadata": {},
   "source": [
    "# Guess Number Higher or Lower"
   ]
  },
  {
   "cell_type": "markdown",
   "metadata": {},
   "source": [
    "Problem: Guess Number Higher or Lower\n",
    "\n",
    "Problem Link: https://leetcode.com/problems/guess-number-higher-or-lower/description"
   ]
  },
  {
   "cell_type": "markdown",
   "metadata": {},
   "source": [
    "We are playing the Guess Game. The game is as follows:\n",
    "\n",
    "I pick a number from 1 to n. You have to guess which number I picked.\n",
    "\n",
    "Every time you guess wrong, I will tell you whether the number I picked is higher or lower than your guess.\n",
    "\n",
    "You call a pre-defined API int guess(int num), which returns three possible results:\n",
    "\n",
    "- -1: Your guess is higher than the number I picked (i.e. num > pick).\n",
    "\n",
    "- 1: Your guess is lower than the number I picked (i.e. num < pick).\n",
    "\n",
    "- 0: your guess is equal to the number I picked (i.e. num == pick).\n",
    "\n",
    "Return the number that I picked."
   ]
  },
  {
   "cell_type": "markdown",
   "metadata": {},
   "source": [
    "**Example 1**:\n",
    "\n",
    "Input: n = 10, pick = 6\n",
    "\n",
    "Output: 6"
   ]
  },
  {
   "cell_type": "markdown",
   "metadata": {},
   "source": [
    "**Example 2**:\n",
    "\n",
    "Input: n = 1, pick = 1\n",
    "\n",
    "Output: 1"
   ]
  },
  {
   "cell_type": "markdown",
   "metadata": {},
   "source": [
    "**Example 3:**\n",
    "\n",
    "Input: n = 2, pick = 1\n",
    "\n",
    "Output: 1"
   ]
  },
  {
   "cell_type": "markdown",
   "metadata": {},
   "source": [
    "## Solution"
   ]
  },
  {
   "cell_type": "code",
   "execution_count": 6,
   "metadata": {},
   "outputs": [],
   "source": [
    "def solution(n: int) -> int:\n",
    "    minimum = 0\n",
    "    maximum = n\n",
    "    mid = (maximum - minimum) // 2\n",
    "    \n",
    "    while minimum <= maximum:\n",
    "        guess_result = guess(mid)\n",
    "        if guess_result == 0: return mid\n",
    "        elif guess_result == -1: maximum = mid - 1\n",
    "        else: minimum = mid + 1\n",
    "        mid = (maximum + minimum) // 2\n",
    "        \n",
    "    return -1"
   ]
  },
  {
   "cell_type": "markdown",
   "metadata": {},
   "source": [
    "**Solution Expaination**\n",
    "\n",
    "This solution uses a **binary search algorithm** to find a target number in the range `[0, n]` by interacting with the `guess()` API.\n",
    "\n",
    "##### Process\n",
    "1. Initialize `minimum = 0`, `maximum = n`, and calculate `mid = (maximum - minimum) // 2`.\n",
    "\n",
    "2. Use a loop to repeatedly:\n",
    "   - Call `guess(mid)` to check the guessed number:\n",
    "     - Return `mid` if correct (`guess(mid) == 0`).\n",
    "     - Adjust `maximum` or `minimum` if the guess is too high or too low.\n",
    "   - Recalculate `mid` for the new range.\n",
    "   \n",
    "3. Return `-1` if no solution is found (though the problem guarantees a valid target)."
   ]
  },
  {
   "cell_type": "markdown",
   "metadata": {},
   "source": [
    "**Space Comlplexity**: BigO(log(n)) (Worst Case)"
   ]
  }
 ],
 "metadata": {
  "kernelspec": {
   "display_name": "Python 3",
   "language": "python",
   "name": "python3"
  },
  "language_info": {
   "codemirror_mode": {
    "name": "ipython",
    "version": 3
   },
   "file_extension": ".py",
   "mimetype": "text/x-python",
   "name": "python",
   "nbconvert_exporter": "python",
   "pygments_lexer": "ipython3",
   "version": "3.12.1"
  }
 },
 "nbformat": 4,
 "nbformat_minor": 2
}
