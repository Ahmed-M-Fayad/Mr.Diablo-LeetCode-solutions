{
 "cells": [
  {
   "cell_type": "markdown",
   "metadata": {},
   "source": [
    "# Binary Search"
   ]
  },
  {
   "cell_type": "markdown",
   "metadata": {},
   "source": [
    "Problem: Binary Search\n",
    "\n",
    "Problem Link: https://leetcode.com/problems/binary-search/description"
   ]
  },
  {
   "cell_type": "markdown",
   "metadata": {},
   "source": [
    "Given an array of integers nums which is sorted in ascending order, and an integer target, write a function to search target in nums. If target exists, then return its index. Otherwise, return -1."
   ]
  },
  {
   "cell_type": "markdown",
   "metadata": {},
   "source": [
    "**Example 1**:\n",
    "\n",
    "Input: nums = [-1,0,3,5,9,12], target = 9\n",
    "\n",
    "Output: 4\n",
    "\n",
    "Explanation: 9 exists in nums and its index is 4"
   ]
  },
  {
   "cell_type": "markdown",
   "metadata": {},
   "source": [
    "**Example 2**:\n",
    "\n",
    "Input: nums = [-1,0,3,5,9,12], target = 2\n",
    "\n",
    "Output: -1\n",
    "\n",
    "Explanation: 2 does not exist in nums so return -1"
   ]
  },
  {
   "cell_type": "markdown",
   "metadata": {},
   "source": [
    "## Solution"
   ]
  },
  {
   "cell_type": "code",
   "execution_count": 1,
   "metadata": {},
   "outputs": [],
   "source": [
    "from typing import List\n",
    "\n",
    "def solution(nums: List[int], target: int) -> int:\n",
    "    for i in range(len(nums)):\n",
    "        if nums[i] == target: return i\n",
    "    return -1"
   ]
  },
  {
   "cell_type": "markdown",
   "metadata": {},
   "source": [
    "**Solution Expaination**\n",
    "\n",
    "This solution defines a method search that performs a linear search on a list nums to find the index of a target value. Here's how it works:\n",
    "\n",
    "The method iterates through the list nums using a for loop.\n",
    "1. At each index i, it checks if the element at nums[i] is equal to the target.\n",
    "\n",
    "2. If a match is found, it returns the index i.\n",
    "\n",
    "3. If the loop completes without finding the target, it returns -1 to indicate that the target is not in the list."
   ]
  },
  {
   "cell_type": "markdown",
   "metadata": {},
   "source": [
    "**Space Comlplexity**: BigO(n) (Worst Case) , Where n is the size of the list nums"
   ]
  },
  {
   "cell_type": "code",
   "execution_count": 2,
   "metadata": {},
   "outputs": [
    {
     "name": "stdout",
     "output_type": "stream",
     "text": [
      "4\n",
      "-1\n"
     ]
    }
   ],
   "source": [
    "# Testing\n",
    "nums = [-1,0,3,5,9,12]\n",
    "target = 9\n",
    "print(solution(nums, target))\n",
    "nums = [-1,0,3,5,9,12]\n",
    "target = 2\n",
    "print(solution(nums, target))"
   ]
  },
  {
   "cell_type": "code",
   "execution_count": 3,
   "metadata": {},
   "outputs": [],
   "source": [
    "def optimized_solution(nums: List[int], target: int) -> int:\n",
    "    min_ind = 0\n",
    "    max_ind = len(nums) - 1\n",
    "    mid = (max_ind - min_ind) // 2\n",
    "    \n",
    "    while min_ind <= max_ind:\n",
    "        mid = (max_ind + min_ind) // 2\n",
    "        if nums[mid] == target: return mid\n",
    "        elif nums[mid] > target: max_ind = mid - 1\n",
    "        else: min_ind = mid + 1\n",
    "    return -1"
   ]
  },
  {
   "cell_type": "markdown",
   "metadata": {},
   "source": [
    "### Solution Expaination\n",
    "\n",
    "This solution implements a binary search algorithm to find the index of a `target` value in a sorted list `nums`.\n",
    "\n",
    "##### Initial Setup\n",
    "- `min_ind` is set to `0`, representing the starting index of the list.\n",
    "- `max_ind` is set to `len(nums) - 1`, representing the last index.\n",
    "- `mid` is initially calculated as the midpoint between `min_ind` and `max_ind`.\n",
    "\n",
    "##### Binary Search Loop\n",
    "- The loop continues while `min_ind <= max_ind`.\n",
    "- In each iteration:\n",
    "  - `mid` is recalculated as the average of `min_ind` and `max_ind`.\n",
    "  - If `nums[mid] == target`, it returns the index `mid`.\n",
    "  - If `nums[mid] > target`, the search continues in the left half by setting `max_ind = mid - 1`.\n",
    "  - If `nums[mid] < target`, the search continues in the right half by setting `min_ind = mid + 1`.\n",
    "\n",
    "##### Return Value\n",
    "- If the target is not found, the method returns `-1`.\n"
   ]
  },
  {
   "cell_type": "markdown",
   "metadata": {},
   "source": [
    "**Space Complexity**: BigO(log(n)) , Where n is the size of the nums list"
   ]
  },
  {
   "cell_type": "code",
   "execution_count": 4,
   "metadata": {},
   "outputs": [
    {
     "name": "stdout",
     "output_type": "stream",
     "text": [
      "4\n",
      "-1\n"
     ]
    }
   ],
   "source": [
    "# Testing\n",
    "nums = [-1,0,3,5,9,12]\n",
    "target = 9\n",
    "print(optimized_solution(nums, target))\n",
    "nums = [-1,0,3,5,9,12]\n",
    "target = 2\n",
    "print(optimized_solution(nums, target))"
   ]
  }
 ],
 "metadata": {
  "kernelspec": {
   "display_name": "Python 3",
   "language": "python",
   "name": "python3"
  },
  "language_info": {
   "codemirror_mode": {
    "name": "ipython",
    "version": 3
   },
   "file_extension": ".py",
   "mimetype": "text/x-python",
   "name": "python",
   "nbconvert_exporter": "python",
   "pygments_lexer": "ipython3",
   "version": "3.12.1"
  }
 },
 "nbformat": 4,
 "nbformat_minor": 2
}
